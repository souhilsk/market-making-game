{
 "cells": [
  {
   "cell_type": "markdown",
   "id": "e9dbeee0",
   "metadata": {},
   "source": [
    "# Environment & Config Check\n",
    "\n",
    "This notebook verifies that the environment is set up correctly and that environment variables can be read from a `.env` file."
   ]
  },
  {
   "cell_type": "code",
   "execution_count": 1,
   "id": "792f48f6",
   "metadata": {},
   "outputs": [
    {
     "name": "stdout",
     "output_type": "stream",
     "text": [
      "API_KEY present: True\n",
      "DATA_DIR: ./data\n"
     ]
    }
   ],
   "source": [
    "from dotenv import load_dotenv\n",
    "import os\n",
    "\n",
    "# Load environment variables from .env\n",
    "load_dotenv()\n",
    "\n",
    "# Check for API_KEY\n",
    "api_key = os.getenv(\"API_KEY\")\n",
    "print(\"API_KEY present:\", api_key is not None)\n",
    "\n",
    "# Optionally display DATA_DIR\n",
    "data_dir = os.getenv(\"DATA_DIR\")\n",
    "print(\"DATA_DIR:\", data_dir)"
   ]
  },
  {
   "cell_type": "code",
   "execution_count": 6,
   "id": "04f5962d",
   "metadata": {},
   "outputs": [
    {
     "name": "stdout",
     "output_type": "stream",
     "text": [
      "a = [1 2 3]\n",
      "b = [4 5 6]\n",
      "a + b = [5 7 9]\n",
      "dot(a, b) = 32\n"
     ]
    }
   ],
   "source": [
    "import numpy as np\n",
    "\n",
    "# Simple NumPy operation\n",
    "a = np.array([1, 2, 3])\n",
    "b = np.array([4, 5, 6])\n",
    "print(\"a =\", a)\n",
    "print(\"b =\", b)\n",
    "print(\"a + b =\", a + b)\n",
    "print(\"dot(a, b) =\", np.dot(a, b))"
   ]
  },
  {
   "cell_type": "code",
   "execution_count": null,
   "id": "5780a6e3-9348-4ca7-af0c-b55b94376c2d",
   "metadata": {},
   "outputs": [],
   "source": []
  }
 ],
 "metadata": {
  "kernelspec": {
   "display_name": "Python 3 (ipykernel)",
   "language": "python",
   "name": "python3"
  },
  "language_info": {
   "codemirror_mode": {
    "name": "ipython",
    "version": 3
   },
   "file_extension": ".py",
   "mimetype": "text/x-python",
   "name": "python",
   "nbconvert_exporter": "python",
   "pygments_lexer": "ipython3",
   "version": "3.13.5"
  }
 },
 "nbformat": 4,
 "nbformat_minor": 5
}
